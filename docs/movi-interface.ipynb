{
 "cells": [
  {
   "cell_type": "markdown",
   "metadata": {},
   "source": [
    "# HBP Morphology Viewer web interface"
   ]
  },
  {
   "cell_type": "code",
   "execution_count": 1,
   "metadata": {},
   "outputs": [],
   "source": [
    "# The autoreload extension is meant for developers.\n",
    "# It ensures that libraries are automatically reloaded when they are modified.\n",
    "%load_ext autoreload"
   ]
  },
  {
   "cell_type": "markdown",
   "metadata": {},
   "source": [
    "The web interface uses a python script <a href=\"movi_interface.py\">movi_interface.py</a> that deals with the communication with the HBP Morphology Viewer. It defines a class 'MoviInterface' which takes two important arguments:\n",
    "- the name of the variable that it is locally assigned to (used in callbacks)\n",
    "- the url of the HBP Morphology Viewer,\n",
    "  - stable version: https://neuroinformatics.nl/HBP/morphology-viewer,\n",
    "  - dev version: https://neuroinformatics.nl/HBP/morphology-viewer-dev"
   ]
  },
  {
   "cell_type": "code",
   "execution_count": 2,
   "metadata": {},
   "outputs": [],
   "source": [
    "import movi_interface as movi\n",
    "import ipywidgets as widgets\n",
    "%autoreload 2\n",
    "# moviInterface will open the HBP Morphology Viewer in a new tab\n",
    "moviInterface = movi.MoviInterface('moviInterface','https://neuroinformatics.nl/HBP/morphology-viewer-dev')\n",
    "#moviInterface = movi.MoviInterface('moviInterface','http://localhost/HBP/morphology-viewer-dev')"
   ]
  },
  {
   "cell_type": "markdown",
   "metadata": {},
   "source": [
    "### Example 1: Display a neuron in the HBP Morphology Viewer\n",
    "Make sure that the morphology file of the `neuronToDisplay`-variable exists on your system, you can download it <a href=\"../samples/TCneuron_EP36-S1_9-9-17.DAT\">here</a>. After running the following cell, you should see the neuron displayed in the Morphology Viewer tab, and get a notification when it is ready in this tab."
   ]
  },
  {
   "cell_type": "code",
   "execution_count": null,
   "metadata": {},
   "outputs": [],
   "source": [
    "neuronToDisplay = '../samples/TCneuron_EP36-S1_9-9-17.DAT'\n",
    "\n",
    "with open(neuronToDisplay,'rb') as fp:\n",
    "  moviCommand = {\n",
    "    \"method\":\"MoVi.import\",\n",
    "    \"params\": {\n",
    "      \"name\": neuronToDisplay,\n",
    "      \"contents\": fp.read()\n",
    "    }\n",
    "  }\n",
    "moviInterface.send(moviCommand);"
   ]
  },
  {
   "cell_type": "markdown",
   "metadata": {},
   "source": [
    "### Example 2: Convert a neuron from SWC to Neurolucida XML\n",
    "Make sure that the morphology file of the `neuronToConvert`-variable exists on your system, you can download it <a href=\"../samples/c10861.CNG.swc\">here</a>. After running the following cell, you should see the neuron displayed in the Morphology Viewer tab, get a notification in this tab when it is ready, and find the resulting XML file in your temporary files folder.\n",
    "\n",
    "**Method 1: Using moviInterface.awaitResponse**\n",
    "\n",
    "This method sends a command to the Morphology Viewer, then blocks the Python execution flow until a response is received. This method is recommended when the result is needed in the next cell. The downside of it is that notebook execution is stalled if the response fails to arrive. "
   ]
  },
  {
   "cell_type": "code",
   "execution_count": null,
   "metadata": {
    "scrolled": true
   },
   "outputs": [],
   "source": [
    "import tempfile,os.path\n",
    "\n",
    "neuronToConvert = '../samples/c10861.CNG.swc'\n",
    "\n",
    "def saveConvertedNeuron(response):\n",
    "  if 'error' in response:\n",
    "    print('Error in saveConvertedNeuron: {}'.format(response['error']))\n",
    "    return\n",
    "  result = response['result']\n",
    "  convertedNeuronFile = os.path.join(tempfile.gettempdir(),os.path.basename(result['name']))\n",
    "  isText = type(result['contents']) == str\n",
    "  with open(convertedNeuronFile,'wt' if isText else 'wb') as fp:\n",
    "    fp.write(result['contents'])  \n",
    "  print('Converted neuron file saved as \"{}\"'.format(convertedNeuronFile))\n",
    "  return convertedNeuronFile\n",
    "\n",
    "with open(neuronToConvert,'rb') as fp:\n",
    "  moviCommand = {\n",
    "    \"method\":\"MoVi.convert\",\n",
    "    \"params\": {\n",
    "      \"name\": neuronToConvert,\n",
    "      \"contents\": fp.read(),\n",
    "      \"toMime\": \"model/mbf.xml+gzip\",\n",
    "      \"doRender\": True\n",
    "    }\n",
    "  }\n",
    "  print('Method 1 (wait for response)')\n",
    "  response = moviInterface.awaitResponse(moviCommand)\n",
    "  stdout = widgets.Output(layout={'border': '10px solid #FA0'})\n",
    "  with stdout:\n",
    "    convertedNeuronFile = saveConvertedNeuron(response)\n",
    "  display(stdout)"
   ]
  },
  {
   "cell_type": "markdown",
   "metadata": {},
   "source": [
    "**Method 2: Using moviInterface.send with a callback**\n",
    "\n",
    "The positive side of this method is that it does not block the Python execution flow. But as a consequence, the result will only be ready *after* all pending Python commands are executed. That means that you cannot use the result of the callback in any of the next cells. \n",
    "\n",
    "The callback should be the name of a function in the current scope, and this function should take the rpc-response as a single argument. Also note the use of an 'output widget' in the code below. This ensures that any output generated asynchronously will appear below the cell."
   ]
  },
  {
   "cell_type": "code",
   "execution_count": null,
   "metadata": {},
   "outputs": [],
   "source": [
    "print('Method 2 (asynchronous callback)')\n",
    "\n",
    "# To make the task more challenging, the conversion is now \n",
    "# inverted, from gzipped XML to gzipped SWC\n",
    "with open(convertedNeuronFile,'rb') as fp:\n",
    "  moviCommand = {\n",
    "    \"method\":\"MoVi.convert\",\n",
    "    \"params\": {\n",
    "      \"name\": convertedNeuronFile,\n",
    "      \"contents\": fp.read(),\n",
    "      \"toMime\": \"model/swc+gzip\",\n",
    "      \"doRender\": True\n",
    "    }\n",
    "  }\n",
    "\n",
    "# For this method, the use of an output widget is essential.\n",
    "# Without it, output and errors of the 'saveConvertedNeuron' \n",
    "# callback will be invisible.\n",
    "stdout = widgets.Output(layout={'border': '10px solid #FA0'})\n",
    "\n",
    "def save(response):\n",
    "  # Callback function with a single parameter: the query response\n",
    "  with stdout:\n",
    "    saveConvertedNeuron(response)\n",
    "\n",
    "moviInterface.send(moviCommand,'save');\n",
    "#rpcId = moviInterface.send(moviCommand)\n",
    "#print(rpcId)\n",
    "#responseFuture = moviInterface.fetchResponse(rpcId)\n",
    "#print(responseFuture)\n",
    "with stdout:\n",
    "  print('Awaiting response...')\n",
    "display(stdout)"
   ]
  },
  {
   "cell_type": "code",
   "execution_count": null,
   "metadata": {},
   "outputs": [],
   "source": []
  }
 ],
 "metadata": {
  "kernelspec": {
   "display_name": "Python 3",
   "language": "python",
   "name": "python3"
  },
  "language_info": {
   "codemirror_mode": {
    "name": "ipython",
    "version": 3
   },
   "file_extension": ".py",
   "mimetype": "text/x-python",
   "name": "python",
   "nbconvert_exporter": "python",
   "pygments_lexer": "ipython3",
   "version": "3.5.2"
  }
 },
 "nbformat": 4,
 "nbformat_minor": 2
}
